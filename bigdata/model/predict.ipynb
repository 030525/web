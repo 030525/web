{
 "cells": [
  {
   "cell_type": "code",
   "execution_count": null,
   "metadata": {},
   "outputs": [],
   "source": [
    "import ast\n",
    "\n",
    "def read_list(fp):\n",
    "    file_path = fp\n",
    "    with open(file_path, 'r') as file:\n",
    "        file_content = file.read()\n",
    "\n",
    "    return ast.literal_eval(file_content)"
   ]
  },
  {
   "cell_type": "markdown",
   "metadata": {},
   "source": [
    "1. open predict csv\n",
    "2. transform features into need"
   ]
  },
  {
   "cell_type": "code",
   "execution_count": null,
   "metadata": {},
   "outputs": [],
   "source": [
    "import joblib\n",
    "import pandas as pd\n",
    "\n",
    "feature_need = read_list('../x')"
   ]
  },
  {
   "cell_type": "code",
   "execution_count": null,
   "metadata": {},
   "outputs": [],
   "source": [
    "def read(csv,rows = None):\n",
    "    train_df=None\n",
    "\n",
    "    if rows is None:\n",
    "        train_df = pd.read_csv(csv)\n",
    "    else:\n",
    "        train_df = pd.read_csv(csv,nrows=rows)\n",
    "\n",
    "    # drop useless cols\n",
    "    train_df = train_df.drop(columns=['Customer_ID','SSN','ID'])\n",
    "    \n",
    "    # encoded text\n",
    "    train_df_encoded = pd.get_dummies(train_df)\n",
    "\n",
    "    return train_df_encoded\n",
    "\n",
    "def fill_missing_features(predict):\n",
    "    gap = set(feature_need) - set(predict.columns)\n",
    "\n",
    "    for i in gap:\n",
    "        predict[i] = 0\n",
    "\n",
    "def delete_unique_features(predict):\n",
    "    gap = list(set(predict.columns) - set(feature_need))\n",
    "\n",
    "    predict.drop(columns=gap, inplace=True)\n",
    "\n",
    "def fill_missing_value(predict):\n",
    "    from sklearn.model_selection import train_test_split\n",
    "    from sklearn.impute import SimpleImputer\n",
    "\n",
    "    imp = SimpleImputer(strategy='mean')\n",
    "    imp_train = imp.fit(predict)\n",
    "    predict = imp_train.transform(predict)\n",
    "\n",
    "def decode(predictions):\n",
    "    y = read_list('y')\n",
    "    df = pd.DataFrame(predictions, columns=y)\n",
    "    result = df.apply(lambda row: ', '.join([label.replace('Credit_Score_', '') for idx, label in enumerate(y) if row.values[idx]]), axis=1)\n",
    "\n",
    "    df['Credit_Score'] = result\n",
    "\n",
    "    return df['Credit_Score']\n"
   ]
  }
 ],
 "metadata": {
  "language_info": {
   "name": "python"
  }
 },
 "nbformat": 4,
 "nbformat_minor": 2
}
