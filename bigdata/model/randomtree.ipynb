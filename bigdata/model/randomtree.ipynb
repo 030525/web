{
 "cells": [
  {
   "cell_type": "markdown",
   "metadata": {},
   "source": [
    "1. load csv\n",
    "2. drop no use message"
   ]
  },
  {
   "cell_type": "code",
   "execution_count": 32,
   "metadata": {},
   "outputs": [],
   "source": [
    "import pandas as pd"
   ]
  },
  {
   "cell_type": "code",
   "execution_count": 33,
   "metadata": {},
   "outputs": [
    {
     "name": "stdout",
     "output_type": "stream",
     "text": [
      "<class 'pandas.core.frame.DataFrame'>\n",
      "RangeIndex: 2000 entries, 0 to 1999\n",
      "Data columns (total 26 columns):\n",
      " #   Column                    Non-Null Count  Dtype  \n",
      "---  ------                    --------------  -----  \n",
      " 0   ID                        2000 non-null   object \n",
      " 1   Month                     2000 non-null   object \n",
      " 2   Name                      1796 non-null   object \n",
      " 3   Age                       2000 non-null   object \n",
      " 4   Occupation                2000 non-null   object \n",
      " 5   Annual_Income             2000 non-null   object \n",
      " 6   Monthly_Inhand_Salary     1671 non-null   float64\n",
      " 7   Num_Bank_Accounts         2000 non-null   int64  \n",
      " 8   Num_Credit_Card           2000 non-null   int64  \n",
      " 9   Interest_Rate             2000 non-null   int64  \n",
      " 10  Num_of_Loan               2000 non-null   object \n",
      " 11  Type_of_Loan              1744 non-null   object \n",
      " 12  Delay_from_due_date       2000 non-null   int64  \n",
      " 13  Num_of_Delayed_Payment    1864 non-null   object \n",
      " 14  Changed_Credit_Limit      2000 non-null   object \n",
      " 15  Num_Credit_Inquiries      1951 non-null   float64\n",
      " 16  Credit_Mix                2000 non-null   object \n",
      " 17  Outstanding_Debt          2000 non-null   object \n",
      " 18  Credit_Utilization_Ratio  2000 non-null   float64\n",
      " 19  Credit_History_Age        1812 non-null   object \n",
      " 20  Payment_of_Min_Amount     2000 non-null   object \n",
      " 21  Total_EMI_per_month       2000 non-null   float64\n",
      " 22  Amount_invested_monthly   1927 non-null   object \n",
      " 23  Payment_Behaviour         2000 non-null   object \n",
      " 24  Monthly_Balance           1978 non-null   float64\n",
      " 25  Credit_Score              2000 non-null   object \n",
      "dtypes: float64(5), int64(4), object(17)\n",
      "memory usage: 406.4+ KB\n"
     ]
    }
   ],
   "source": [
    "train_df = pd.read_csv(\"../data/train.csv\",nrows=2000) # limit nrows\n",
    "train_df = train_df.drop(columns=['Customer_ID','SSN'])\n",
    "train_df.info()\n"
   ]
  },
  {
   "cell_type": "markdown",
   "metadata": {},
   "source": [
    "1. encode text variable to number  \n",
    "\n",
    "|gender|\n",
    "|------|\n",
    "|man   |\n",
    "|woman |\n",
    "\n",
    "into \n",
    "\n",
    "|gender_man|gemder_woman|\n",
    "|---|-----|\n",
    "|1  | 0   |\n",
    "|0  | 1   |"
   ]
  },
  {
   "cell_type": "code",
   "execution_count": 34,
   "metadata": {},
   "outputs": [],
   "source": [
    "train_df_encoded = pd.get_dummies(train_df)"
   ]
  },
  {
   "cell_type": "code",
   "execution_count": 35,
   "metadata": {},
   "outputs": [
    {
     "name": "stdout",
     "output_type": "stream",
     "text": [
      "Index(['Monthly_Inhand_Salary', 'Num_Bank_Accounts', 'Num_Credit_Card',\n",
      "       'Interest_Rate', 'Delay_from_due_date', 'Num_Credit_Inquiries',\n",
      "       'Credit_Utilization_Ratio', 'Total_EMI_per_month', 'Monthly_Balance',\n",
      "       'ID_0x1602',\n",
      "       ...\n",
      "       'Payment_Behaviour_!@9#%8',\n",
      "       'Payment_Behaviour_High_spent_Large_value_payments',\n",
      "       'Payment_Behaviour_High_spent_Medium_value_payments',\n",
      "       'Payment_Behaviour_High_spent_Small_value_payments',\n",
      "       'Payment_Behaviour_Low_spent_Large_value_payments',\n",
      "       'Payment_Behaviour_Low_spent_Medium_value_payments',\n",
      "       'Payment_Behaviour_Low_spent_Small_value_payments', 'Credit_Score_Good',\n",
      "       'Credit_Score_Poor', 'Credit_Score_Standard'],\n",
      "      dtype='object', length=6112)\n"
     ]
    }
   ],
   "source": [
    "print(train_df_encoded.columns)\n"
   ]
  },
  {
   "cell_type": "markdown",
   "metadata": {},
   "source": [
    "1. set x , y"
   ]
  },
  {
   "cell_type": "code",
   "execution_count": 36,
   "metadata": {},
   "outputs": [],
   "source": [
    "X = train_df_encoded.drop(columns=['Credit_Score_Poor','Credit_Score_Standard','Credit_Score_Good'])\n",
    "y = train_df_encoded[['Credit_Score_Poor','Credit_Score_Standard','Credit_Score_Good']]"
   ]
  },
  {
   "cell_type": "markdown",
   "metadata": {},
   "source": [
    "1. split data into trainset and testset\n",
    "2. fill missing value with avrage value"
   ]
  },
  {
   "cell_type": "code",
   "execution_count": 37,
   "metadata": {},
   "outputs": [],
   "source": [
    "from sklearn.model_selection import train_test_split\n",
    "from sklearn.impute import SimpleImputer\n",
    "\n",
    "X_train,X_test,y_train,y_test = train_test_split(X,y,test_size=0.2,stratify =y,random_state =42)\n",
    "\n",
    "imp = SimpleImputer(strategy='mean')\n",
    "imp_train = imp.fit(X_train)\n",
    "X_train = imp_train.transform(X_train)\n",
    "X_test_imp = imp_train.transform(X_test)"
   ]
  },
  {
   "cell_type": "markdown",
   "metadata": {},
   "source": [
    "1. decision tree model"
   ]
  },
  {
   "cell_type": "code",
   "execution_count": 38,
   "metadata": {},
   "outputs": [
    {
     "name": "stdout",
     "output_type": "stream",
     "text": [
      "Training Data Set Accuracy:  1.0\n",
      "Training Data F1 Score  1.0\n",
      "Validation Mean F1 Score:  0.7003469546728602\n",
      "Validation Mean Accuracy:  0.724375\n"
     ]
    }
   ],
   "source": [
    "from sklearn.tree import DecisionTreeClassifier\n",
    "from sklearn.model_selection import cross_val_score\n",
    "from sklearn.metrics import accuracy_score,f1_score\n",
    "\n",
    "\n",
    "tree_clf = DecisionTreeClassifier()\n",
    "tree_clf.fit(X_train,y_train)\n",
    "y_pred = tree_clf.predict(X_train)\n",
    "\n",
    "print(\"Training Data Set Accuracy: \", accuracy_score(y_train,y_pred))\n",
    "print(\"Training Data F1 Score \", f1_score(y_train, y_pred, average='macro'))\n",
    "\n",
    "\n",
    "print(\"Validation Mean F1 Score: \",cross_val_score(tree_clf,X_train,y_train,cv=5,scoring='f1_macro').mean())\n",
    "print(\"Validation Mean Accuracy: \",cross_val_score(tree_clf,X_train,y_train,cv=5,scoring='accuracy').mean())"
   ]
  }
 ],
 "metadata": {
  "kernelspec": {
   "display_name": "Python 3",
   "language": "python",
   "name": "python3"
  },
  "language_info": {
   "codemirror_mode": {
    "name": "ipython",
    "version": 3
   },
   "file_extension": ".py",
   "mimetype": "text/x-python",
   "name": "python",
   "nbconvert_exporter": "python",
   "pygments_lexer": "ipython3",
   "version": "3.10.12"
  }
 },
 "nbformat": 4,
 "nbformat_minor": 2
}
